{
 "cells": [
  {
   "cell_type": "code",
   "execution_count": 1,
   "metadata": {},
   "outputs": [],
   "source": [
    "from preprocessing import *\n",
    "import sklearn\n",
    "from sklearn import svm\n",
    "from sklearn.svm import SVC\n",
    "from sklearn.model_selection import train_test_split\n",
    "from sklearn.model_selection import RepeatedStratifiedKFold\n",
    "from sklearn.model_selection import GridSearchCV\n",
    "import pickle\n",
    "from sklearn import metrics\n",
    "\n",
    "# Input\n",
    "Xp,ids=prot_feats('./dataset/Training_Positive_Original_488.fasta')\n",
    "Xn,ids=prot_feats('./dataset/Training_Negative_902.fasta')\n",
    "yp=np.array([1]*Xp.shape[0])\n",
    "yn=np.array([-1]*Xn.shape[0])\n",
    "\n",
    "X = np.concatenate((Xp, Xn))\n",
    "y = np.concatenate((yp, yn))"
   ]
  },
  {
   "cell_type": "code",
   "execution_count": null,
   "metadata": {},
   "outputs": [],
   "source": [
    "# Split dataset\n",
    "X_train, X_test, y_train, y_test = train_test_split(X, y, test_size=.3, random_state=1)\n"
   ]
  },
  {
   "cell_type": "code",
   "execution_count": null,
   "metadata": {},
   "outputs": [],
   "source": [
    "## Tuning Hyperparameters\n",
    "# param_grid = {'C': [0.1, 1, 10, 100], 'gamma': [1,0.1,0.01,0.001],'kernel': ['rbf', 'poly', 'sigmoid']}\n",
    "# grid = dict(C=param_grid['C'], gamma = param_grid['gamma'], kernel = param_grid['kernel'])\n",
    "\n",
    "# cv = RepeatedStratifiedKFold(n_splits=10, n_repeats=1, random_state=1)\n",
    "# grid_search = GridSearchCV(estimator=SVC(), param_grid=grid, n_jobs=-1, cv=cv, scoring='precision', error_score=0)\n",
    "# grid_result = grid_search.fit(X_train, y_train)\n",
    "\n",
    "# print(\"Best: %f using %s\" % (grid_result.best_score_, grid_result.best_params_))\n",
    "# means = grid_result.cv_results_['mean_test_score']\n",
    "# stds = grid_result.cv_results_['std_test_score']\n",
    "# params = grid_result.cv_results_['params']\n",
    "# for mean, stdev, param in zip(means, stds, params):\n",
    "#     print(\"%f (%f) with: %r\" % (mean, stdev, param))"
   ]
  },
  {
   "cell_type": "code",
   "execution_count": null,
   "metadata": {},
   "outputs": [],
   "source": [
    "# Training\n",
    "model = SVC(probability=True)\n",
    "model.fit(X_train, y_train)\n",
    "pickle.dump(model, open('./model/svc.pickle', 'wb'))\n",
    "\n",
    "print(X_train.shape, X_test.shape, y_train.shape, y_test.shape)\n",
    "y_pred = model.predict(X_test)"
   ]
  },
  {
   "cell_type": "code",
   "execution_count": null,
   "metadata": {},
   "outputs": [],
   "source": [
    "# Evaluate\n",
    "from sklearn.metrics import confusion_matrix, plot_confusion_matrix\n",
    "import matplotlib.pyplot as plt \n",
    "cm = confusion_matrix(y_test, y_pred)\n",
    "print(cm)\n",
    "tn, fp, fn, tp = cm.ravel()\n",
    "print(tn, fp, fn, tp)\n",
    "plot_confusion_matrix(model, X_test, y_test, cmap=plt.cm.Blues)\n",
    "plt.show()\n",
    "\n",
    "print('Sensitivity = ', tp/(tp+fn))\n",
    "print('Specificity = ', tp/(tp+fp))\n",
    "print('Accuracy = ', (tp+tn)/(tp+fp+tn+fn))\n",
    "print('F-value = ', 2*tp/(2*tp+fp+fn))\n",
    "\n",
    "# print(sklearn.metrics.accuracy_score(y_test, y_pred))\n",
    "# print(sklearn.metrics.precision_score(y_test, y_pred))\n",
    "# print(sklearn.metrics.recall_score(y_test, y_pred))\n",
    "# print(sklearn.metrics.f1_score(y_test, y_pred), end='\\n\\n')\n"
   ]
  },
  {
   "cell_type": "code",
   "execution_count": null,
   "metadata": {},
   "outputs": [],
   "source": [
    "## XGBoost Ranker\n",
    "# from xgbranker import XGBRanker\n",
    "# model = XGBRanker(n_estimators=120, learning_rate=0.1, subsample=0.6, max_tree_depth=3)\n",
    "# model.fit(X_train, y_train)\n",
    "# pickle.dump(model, open('xgb.pickle', 'wb'))\n",
    "# model.decision_function = model.predict\n",
    "# y_pred = model.decision_function(X_test)\n",
    "# for i, value in enumerate(y_pred):\n",
    "#     if value > 0:\n",
    "#         y_pred[i] = 1\n",
    "#     else:\n",
    "#         y_pred[i] = -1\n",
    "# print(sklearn.metrics.accuracy_score(y_test, y_pred))\n",
    "# print(sklearn.metrics.precision_score(y_test, y_pred))\n",
    "# print(sklearn.metrics.recall_score(y_test, y_pred))\n",
    "# print(sklearn.metrics.f1_score(y_test, y_pred))"
   ]
  },
  {
   "cell_type": "code",
   "execution_count": 12,
   "metadata": {},
   "outputs": [
    {
     "data": {
      "image/png": "[encoded data removed]",
      "text/plain": [
       "<Figure size 936x648 with 1 Axes>"
      ]
     },
     "metadata": {
      "needs_background": "light"
     },
     "output_type": "display_data"
    }
   ],
   "source": [
    "# AUC-ROC\n",
    "fig = plt.figure(figsize=(13,9))\n",
    "plt.plot([0, 1], [0, 1],'r--')\n",
    "\n",
    "predict_pobs = model.predict_proba(X_test)[:, 1]\n",
    "fpr, tpr, thresh = metrics.roc_curve(y_test, predict_pobs)\n",
    "auc = metrics.roc_auc_score(y_test, predict_pobs)\n",
    "plt.plot(fpr, tpr, label=f'AUC = {str(round(auc,3))}')\n",
    "\n",
    "# Plot\n",
    "plt.ylabel(\"True Positive Rate\")\n",
    "plt.xlabel(\"False Positive Rate\")\n",
    "plt.title(\"ROC curve\")\n",
    "plt.rcParams['axes.titlesize'] = 18\n",
    "plt.legend()\n",
    "plt.xlim(0,1)\n",
    "plt.ylim(0,1)\n",
    "plt.show()"
   ]
  },
  {
   "cell_type": "code",
   "execution_count": null,
   "metadata": {},
   "outputs": [],
   "source": [
    "# # Evaluate by CV\n",
    "# from sklearn.model_selection import KFold, RepeatedStratifiedKFold, cross_val_score\n",
    "# cv = RepeatedStratifiedKFold(n_splits=5, n_repeats=5, random_state=2)\n",
    "# scores = cross_val_score(estimator=SVC(), X, y, scoring='accuracy', cv=cv, n_jobs=-1)\n",
    "# for score in scores:\n",
    "#     print('Accuracy: %.3f' % score)\n",
    "# print('Mean: %.3f, Std: %.3f' % (np.mean(scores), np.std(scores)))"
   ]
  }
 ],
 "metadata": {
  "kernelspec": {
   "display_name": "Python 3",
   "language": "python",
   "name": "python3"
  },
  "language_info": {
   "codemirror_mode": {
    "name": "ipython",
    "version": 3
   },
   "file_extension": ".py",
   "mimetype": "text/x-python",
   "name": "python",
   "nbconvert_exporter": "python",
   "pygments_lexer": "ipython3",
   "version": "3.6.9"
  }
 },
 "nbformat": 4,
 "nbformat_minor": 2
}
